{
 "cells": [
  {
   "cell_type": "code",
   "execution_count": 1,
   "metadata": {},
   "outputs": [
    {
     "name": "stdout",
     "output_type": "stream",
     "text": [
      "/bin/sh: allennlp: command not found\r\n"
     ]
    }
   ],
   "source": [
    "!python3 -m allennlp.run train tutorials/tagger/experiment.jsonnet \\\n",
    "                 -s /tmp/serialization_dir \\\n",
    "                 --include-package tutorials.tagger.config_allennlp \\"
   ]
  },
  {
   "cell_type": "code",
   "execution_count": 2,
   "metadata": {},
   "outputs": [
    {
     "name": "stdout",
     "output_type": "stream",
     "text": [
      "2018-12-07 19:08:26,536 - INFO - allennlp.models.archival - loading archive file https://s3-us-west-2.amazonaws.com/allennlp/models/coref-model-2018.02.05.tar.gz from cache at /Users/ptklein/.allennlp/cache/b37780f4ed0365ac7b155e8b33e2c64c80658a2615a99eabe298a9980914bc92.1ad851a2740b5abf5c5806bc254ecfaa4f4865bcb09ce64d09bfab6db423a686\n",
      "2018-12-07 19:08:26,539 - INFO - allennlp.models.archival - extracting archive file /Users/ptklein/.allennlp/cache/b37780f4ed0365ac7b155e8b33e2c64c80658a2615a99eabe298a9980914bc92.1ad851a2740b5abf5c5806bc254ecfaa4f4865bcb09ce64d09bfab6db423a686 to temp dir /var/folders/5r/_txl_nln5q76qny7l53gkr080000gp/T/tmps1vjkxzr\n",
      "2018-12-07 19:08:27,106 - INFO - allennlp.data.vocabulary - Loading token dictionary from /var/folders/5r/_txl_nln5q76qny7l53gkr080000gp/T/tmps1vjkxzr/vocabulary.\n",
      "2018-12-07 19:08:27,157 - INFO - allennlp.common.from_params - instantiating class <class 'allennlp.models.model.Model'> from params {'antecedent_feedforward': {'activations': 'relu', 'dropout': 0.2, 'hidden_dims': 150, 'input_dim': 3680, 'num_layers': 2}, 'context_layer': {'bidirectional': True, 'dropout': 0.2, 'hidden_size': 200, 'input_size': 400, 'num_layers': 1, 'type': 'lstm'}, 'feature_size': 20, 'initializer': [['.*linear_layers.*weight', {'type': 'xavier_normal'}], ['.*scorer._module.*weight', {'type': 'xavier_normal'}], ['.*_global_attention._module.weight', {'type': 'xavier_normal'}], ['_distance_embedding.weight', {'type': 'xavier_normal'}], ['_span_width_embedding.weight', {'type': 'xavier_normal'}], ['_context_layer._module.weight_ih.*', {'type': 'xavier_normal'}], ['_context_layer._module.weight_hh.*', {'type': 'orthogonal'}]], 'lexical_dropout': 0.5, 'max_antecedents': 150, 'max_span_width': 10, 'mention_feedforward': {'activations': 'relu', 'dropout': 0.2, 'hidden_dims': 150, 'input_dim': 1220, 'num_layers': 2}, 'spans_per_word': 0.4, 'text_field_embedder': {'token_characters': {'embedding': {'embedding_dim': 16, 'num_embeddings': 262}, 'encoder': {'embedding_dim': 16, 'ngram_filter_sizes': [5], 'num_filters': 100, 'type': 'cnn'}, 'type': 'character_encoding'}, 'tokens': {'embedding_dim': 300, 'trainable': False, 'type': 'embedding'}}, 'type': 'coref'} and extras {'vocab': <allennlp.data.vocabulary.Vocabulary object at 0x11b428da0>}\n",
      "2018-12-07 19:08:27,157 - INFO - allennlp.common.from_params - instantiating class <class 'allennlp.models.coreference_resolution.coref.CoreferenceResolver'> from params {'antecedent_feedforward': {'activations': 'relu', 'dropout': 0.2, 'hidden_dims': 150, 'input_dim': 3680, 'num_layers': 2}, 'context_layer': {'bidirectional': True, 'dropout': 0.2, 'hidden_size': 200, 'input_size': 400, 'num_layers': 1, 'type': 'lstm'}, 'feature_size': 20, 'initializer': [['.*linear_layers.*weight', {'type': 'xavier_normal'}], ['.*scorer._module.*weight', {'type': 'xavier_normal'}], ['.*_global_attention._module.weight', {'type': 'xavier_normal'}], ['_distance_embedding.weight', {'type': 'xavier_normal'}], ['_span_width_embedding.weight', {'type': 'xavier_normal'}], ['_context_layer._module.weight_ih.*', {'type': 'xavier_normal'}], ['_context_layer._module.weight_hh.*', {'type': 'orthogonal'}]], 'lexical_dropout': 0.5, 'max_antecedents': 150, 'max_span_width': 10, 'mention_feedforward': {'activations': 'relu', 'dropout': 0.2, 'hidden_dims': 150, 'input_dim': 1220, 'num_layers': 2}, 'spans_per_word': 0.4, 'text_field_embedder': {'token_characters': {'embedding': {'embedding_dim': 16, 'num_embeddings': 262}, 'encoder': {'embedding_dim': 16, 'ngram_filter_sizes': [5], 'num_filters': 100, 'type': 'cnn'}, 'type': 'character_encoding'}, 'tokens': {'embedding_dim': 300, 'trainable': False, 'type': 'embedding'}}} and extras {'vocab': <allennlp.data.vocabulary.Vocabulary object at 0x11b428da0>}\n",
      "2018-12-07 19:08:27,158 - INFO - allennlp.common.from_params - instantiating class <class 'allennlp.modules.text_field_embedders.text_field_embedder.TextFieldEmbedder'> from params {'token_characters': {'embedding': {'embedding_dim': 16, 'num_embeddings': 262}, 'encoder': {'embedding_dim': 16, 'ngram_filter_sizes': [5], 'num_filters': 100, 'type': 'cnn'}, 'type': 'character_encoding'}, 'tokens': {'embedding_dim': 300, 'trainable': False, 'type': 'embedding'}} and extras {'vocab': <allennlp.data.vocabulary.Vocabulary object at 0x11b428da0>}\n",
      "2018-12-07 19:08:27,158 - INFO - allennlp.common.from_params - instantiating class <class 'allennlp.modules.token_embedders.token_embedder.TokenEmbedder'> from params {'embedding': {'embedding_dim': 16, 'num_embeddings': 262}, 'encoder': {'embedding_dim': 16, 'ngram_filter_sizes': [5], 'num_filters': 100, 'type': 'cnn'}, 'type': 'character_encoding'} and extras {'vocab': <allennlp.data.vocabulary.Vocabulary object at 0x11b428da0>}\n",
      "2018-12-07 19:08:27,162 - INFO - allennlp.common.from_params - instantiating class <class 'allennlp.modules.seq2vec_encoders.seq2vec_encoder.Seq2VecEncoder'> from params {'embedding_dim': 16, 'ngram_filter_sizes': [5], 'num_filters': 100, 'type': 'cnn'} and extras {}\n",
      "2018-12-07 19:08:27,162 - INFO - allennlp.common.from_params - instantiating class <class 'allennlp.modules.seq2vec_encoders.cnn_encoder.CnnEncoder'> from params {'embedding_dim': 16, 'ngram_filter_sizes': [5], 'num_filters': 100} and extras {}\n",
      "2018-12-07 19:08:27,164 - INFO - allennlp.common.from_params - instantiating class <class 'allennlp.modules.token_embedders.token_embedder.TokenEmbedder'> from params {'embedding_dim': 300, 'trainable': False, 'type': 'embedding'} and extras {'vocab': <allennlp.data.vocabulary.Vocabulary object at 0x11b428da0>}\n",
      "2018-12-07 19:08:27,268 - INFO - allennlp.common.from_params - instantiating class <class 'allennlp.modules.seq2seq_encoders.seq2seq_encoder.Seq2SeqEncoder'> from params {'bidirectional': True, 'dropout': 0.2, 'hidden_size': 200, 'input_size': 400, 'num_layers': 1, 'type': 'lstm'} and extras {'vocab': <allennlp.data.vocabulary.Vocabulary object at 0x11b428da0>}\n",
      "/Users/ptklein/Library/Python/3.6/lib/python/site-packages/torch/nn/modules/rnn.py:38: UserWarning: dropout option adds dropout after all but last recurrent layer, so non-zero dropout expects num_layers greater than 1, but got dropout=0.2 and num_layers=1\n",
      "  \"num_layers={}\".format(dropout, num_layers))\n",
      "2018-12-07 19:08:27,400 - INFO - allennlp.common.checks - Pytorch version: 0.4.1\n",
      "2018-12-07 19:08:27,400 - INFO - allennlp.common.from_params - instantiating class <class 'allennlp.data.dataset_readers.dataset_reader.DatasetReader'> from params {'max_span_width': 10, 'token_indexers': {'token_characters': {'type': 'characters'}, 'tokens': {'lowercase_tokens': False, 'type': 'single_id'}}, 'type': 'coref'} and extras {}\n",
      "2018-12-07 19:08:27,401 - INFO - allennlp.common.from_params - instantiating class <class 'allennlp.data.dataset_readers.coreference_resolution.conll.ConllCorefReader'> from params {'max_span_width': 10, 'token_indexers': {'token_characters': {'type': 'characters'}, 'tokens': {'lowercase_tokens': False, 'type': 'single_id'}}} and extras {}\n",
      "2018-12-07 19:08:27,401 - INFO - allennlp.common.from_params - instantiating class allennlp.data.token_indexers.token_indexer.TokenIndexer from params {'type': 'characters'} and extras {}\n",
      "2018-12-07 19:08:27,401 - INFO - allennlp.common.from_params - instantiating class allennlp.data.token_indexers.token_characters_indexer.TokenCharactersIndexer from params {} and extras {}\n",
      "2018-12-07 19:08:27,402 - INFO - allennlp.common.from_params - instantiating class allennlp.data.token_indexers.token_indexer.TokenIndexer from params {'lowercase_tokens': False, 'type': 'single_id'} and extras {}\n",
      "2018-12-07 19:08:27,402 - INFO - allennlp.common.from_params - instantiating class allennlp.data.token_indexers.single_id_token_indexer.SingleIdTokenIndexer from params {'lowercase_tokens': False} and extras {}\n",
      "2018-12-07 19:08:27,402 - INFO - allennlp.commands.evaluate - Reading evaluation data from ./dev.english.conll\n",
      "2it [00:00, 23.28it/s]\n",
      "2018-12-07 19:08:27,489 - INFO - allennlp.common.from_params - instantiating class <class 'allennlp.data.iterators.data_iterator.DataIterator'> from params {'batch_size': 1, 'padding_noise': 0, 'sorting_keys': [['text', 'num_tokens']], 'type': 'bucket'} and extras {}\n",
      "2018-12-07 19:08:27,490 - INFO - allennlp.common.from_params - instantiating class <class 'allennlp.data.iterators.bucket_iterator.BucketIterator'> from params {'batch_size': 1, 'padding_noise': 0, 'sorting_keys': [['text', 'num_tokens']]} and extras {}\n",
      "2018-12-07 19:08:27,490 - INFO - allennlp.commands.evaluate - Iterating over dataset\n"
     ]
    },
    {
     "name": "stdout",
     "output_type": "stream",
     "text": [
      "coref_precision: 0.60, coref_recall: 0.45, coref_f1: 0.51, mention_recall: 0.81 ||: 100%|█| 2/2 [00:03<00:00,  1.81s/it]\n",
      "2018-12-07 19:08:31,194 - INFO - allennlp.commands.evaluate - Finished evaluating.\n",
      "2018-12-07 19:08:31,194 - INFO - allennlp.commands.evaluate - Metrics:\n",
      "2018-12-07 19:08:31,194 - INFO - allennlp.commands.evaluate - coref_precision: 0.5996249619228635\n",
      "2018-12-07 19:08:31,194 - INFO - allennlp.commands.evaluate - coref_recall: 0.4540628262401249\n",
      "2018-12-07 19:08:31,194 - INFO - allennlp.commands.evaluate - coref_f1: 0.5135786205120766\n",
      "2018-12-07 19:08:31,194 - INFO - allennlp.commands.evaluate - mention_recall: 0.80625\n",
      "[INFO/MainProcess] process shutting down\n"
     ]
    }
   ],
   "source": [
    "!python3 -m allennlp.run evaluate https://s3-us-west-2.amazonaws.com/allennlp/models/coref-model-2018.02.05.tar.gz ./dev.english.conll --include-package tutorials.tagger.config"
   ]
  },
  {
   "cell_type": "code",
   "execution_count": null,
   "metadata": {},
   "outputs": [],
   "source": []
  }
 ],
 "metadata": {
  "kernelspec": {
   "display_name": "Python 3",
   "language": "python",
   "name": "python3"
  },
  "language_info": {
   "codemirror_mode": {
    "name": "ipython",
    "version": 2
   },
   "file_extension": ".py",
   "mimetype": "text/x-python",
   "name": "python",
   "nbconvert_exporter": "python",
   "pygments_lexer": "ipython2",
   "version": "2.7.15"
  }
 },
 "nbformat": 4,
 "nbformat_minor": 2
}
