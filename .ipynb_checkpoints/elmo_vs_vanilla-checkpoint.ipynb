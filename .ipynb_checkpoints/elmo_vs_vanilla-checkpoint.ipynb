{
 "cells": [
  {
   "cell_type": "code",
   "execution_count": 2,
   "metadata": {},
   "outputs": [
    {
     "name": "stderr",
     "output_type": "stream",
     "text": [
      "12/16/2018 16:49:10 - INFO - allennlp.commands.elmo -   Initializing ELMo.\n"
     ]
    }
   ],
   "source": [
    "import torch\n",
    "\n",
    "a = torch.load('./coref_elmo_dir/best.th')\n",
    "# print(type(a))\n",
    "\n",
    "# print(sorted([len(a[i]) for i in a.keys()]))\n",
    "\n",
    "# print([i for i in a.keys() if len(a[i]) == 1024])\n",
    "# # print([i for i in a.keys() if len(a[i]) == 1])\n",
    "\n",
    "names = ['_text_field_embedder.token_embedder_elmo._elmo.scalar_mix_0.gamma', '_text_field_embedder.token_embedder_elmo._elmo.scalar_mix_0.scalar_parameters.0', '_text_field_embedder.token_embedder_elmo._elmo.scalar_mix_0.scalar_parameters.1', '_text_field_embedder.token_embedder_elmo._elmo.scalar_mix_0.scalar_parameters.2']\n",
    "\n",
    "weights = [float(a[i]) for i in names]\n",
    "\n",
    "from allennlp.commands.elmo import ElmoEmbedder\n",
    "elmo = ElmoEmbedder()\n"
   ]
  },
  {
   "cell_type": "code",
   "execution_count": 3,
   "metadata": {},
   "outputs": [],
   "source": [
    "# vectors = elmo.embed_sentence([\"Richard\", \"loves\", \"himself\", \"so\", \"much\", \"that\", \"he\", \"made\", \"love\", \"to\", \"himself\"])\n",
    "# orig_sentence = \"dogs ran around the yard . they ran quickly . bananas taste good .\".split(\" \")\n",
    "\n",
    "orig_sentence = [\"In\", \"the\", \"same\", \"way\", \"that\", \"no\", \"country\", \"has\", \"a\", \"law\", \"against\", \"cannibals\", \"eating\", \"its\", \"prime\", \"minister\", \",\", \"because\", \"such\", \"an\", \"act\", \"is\", \"unthinkable\", \",\", \"international\", \"law\", \"does\", \"not\", \"address\", \"killers\", \"shooting\", \"from\", \"hospitals\", \",\", \"mosques\", \"and\", \"ambulances\", \",\", \"while\", \"being\", \"protected\", \"by\", \"their\", \"Government\", \"or\", \"society\", \".\", \"International\", \"law\", \"does\", \"not\", \"know\", \"how\", \"to\", \"handle\", \"someone\", \"who\", \"sends\", \"children\", \"to\", \"throw\", \"stones\", \",\", \"stands\", \"behind\", \"them\", \"and\", \"shoots\", \"with\", \"immunity\", \"and\", \"can\", \"not\", \"be\", \"arrested\", \"because\", \"he\", \"is\", \"sheltered\", \"by\", \"a\", \"Government\", \".\", \"International\", \"law\", \"does\", \"not\", \"know\", \"how\", \"to\", \"deal\", \"with\", \"a\", \"leader\", \"of\", \"murderers\", \"who\", \"is\", \"royally\", \"and\", \"comfortably\", \"hosted\", \"by\", \"a\", \"country\", \",\", \"which\", \"pretends\", \"to\", \"condemn\", \"his\", \"acts\", \"or\", \"just\", \"claims\", \"to\", \"be\", \"too\", \"weak\", \"to\", \"arrest\", \"him\", \".\"]\n",
    "vectors = elmo.embed_sentence(orig_sentence)"
   ]
  },
  {
   "cell_type": "code",
   "execution_count": 89,
   "metadata": {},
   "outputs": [
    {
     "name": "stdout",
     "output_type": "stream",
     "text": [
      "0.7657693177461624\n",
      "0.8009754866361618\n",
      "123\n"
     ]
    }
   ],
   "source": [
    "import numpy as np\n",
    "import scipy\n",
    "\n",
    "val1 = weights[0]*np.add(np.add(weights[1]*vectors[0][1], weights[2]*vectors[1][1]), weights[3]*vectors[2][1])\n",
    "\n",
    "val2 = weights[0]*np.add(np.add(weights[1]*vectors[0][7], weights[2]*vectors[1][7]), weights[3]*vectors[2][7])\n",
    "\n",
    "dist = scipy.spatial.distance.cosine(val1, val2) # cosine distance between \"apple\" and \"carrot\" in the last layer\n",
    "dist2 = scipy.spatial.distance.cosine(vectors[2][1], vectors[2][7])\n",
    "print(dist)\n",
    "print(dist2)\n",
    "print(len(vectors[0]))\n",
    "# 0.18020617961883545"
   ]
  },
  {
   "cell_type": "code",
   "execution_count": 97,
   "metadata": {},
   "outputs": [
    {
     "name": "stdout",
     "output_type": "stream",
     "text": [
      "[(33, 35, ',', 'and', 0.2726641297340393), (24, 47, 'international', 'International', 0.2801250219345093), (24, 83, 'international', 'International', 0.32263028621673584), (32, 34, 'hospitals', 'mosques', 0.3462156057357788), (98, 100, 'royally', 'comfortably', 0.3493005633354187)]\n",
      "[(98, 100, 'royally', 'comfortably', 0.2058367133140564), (32, 34, 'hospitals', 'mosques', 0.209608256816864), (16, 17, ',', 'because', 0.23870420455932617), (24, 47, 'international', 'International', 0.24281048774719238), (40, 78, 'protected', 'sheltered', 0.24935519695281982)]\n"
     ]
    }
   ],
   "source": [
    "elmo_embeddings = {}\n",
    "reg_embeddings = {}\n",
    "for i in range(len(vectors[0])):\n",
    "    embedding = weights[0]*np.add(np.add(weights[1]*vectors[0][i], weights[2]*vectors[1][i]), weights[3]*vectors[2][i])\n",
    "    elmo_embeddings[orig_sentence[i] + \" \" + str(i)] = (i, embedding)\n",
    "    reg_embeddings[orig_sentence[i] + \" \" + str(i)] = (i, vectors[2][i])\n",
    "\n",
    "    \n",
    "def similarities(embedding_dict):\n",
    "    cosine_sims = []\n",
    "    for w1, (i, e1) in embedding_dict.items():\n",
    "        for w2, (j, e2) in embedding_dict.items():\n",
    "            if j <= i or w2.split()[0] == w1.split()[0]: \n",
    "                continue\n",
    "            dist = scipy.spatial.distance.cosine(e1,e2)\n",
    "            cosine_sims.append((i,j,w1.split()[0],w2.split()[0],dist))\n",
    "    cosine_sims.sort(key=lambda x: x[4], reverse = False)\n",
    "#     print(cosine_sims)\n",
    "    return cosine_sims\n",
    "\n",
    "top_n = 5\n",
    "\n",
    "sim_elmo = similarities(elmo_embeddings)[:top_n]\n",
    "sim_reg = similarities(reg_embeddings)[:top_n]\n",
    "\n",
    "print(sim_elmo)\n",
    "\n",
    "# print()\n",
    "\n",
    "print(sim_reg)\n",
    "\n",
    "# print(len(set([(a, b, c, d) for a, b, c, d, e in sim_elmo]).intersection(set([(a, b, c, d) for a, b, c, d, e in sim_reg]))))\n"
   ]
  },
  {
   "cell_type": "code",
   "execution_count": 95,
   "metadata": {},
   "outputs": [],
   "source": [
    "sim_elmo_dict = {}\n",
    "for i,j,w1,w2,dist in sim_elmo:\n",
    "    sim_elmo_dict[str(i)+\" \"+str(j)] = (w1,w2,dist)\n",
    "\n",
    "sim_reg_dict = {}\n",
    "for i,j,w1,w2,dist in sim_reg:\n",
    "    sim_reg_dict[str(i)+\" \"+str(j)] = (w1,w2,dist)    "
   ]
  },
  {
   "cell_type": "code",
   "execution_count": 96,
   "metadata": {
    "scrolled": true
   },
   "outputs": [
    {
     "ename": "KeyError",
     "evalue": "'33 35'",
     "output_type": "error",
     "traceback": [
      "\u001b[0;31m---------------------------------------------------------------------------\u001b[0m",
      "\u001b[0;31mKeyError\u001b[0m                                  Traceback (most recent call last)",
      "\u001b[0;32m<ipython-input-96-c4b42c4a98df>\u001b[0m in \u001b[0;36m<module>\u001b[0;34m\u001b[0m\n\u001b[1;32m      1\u001b[0m \u001b[0;32mfor\u001b[0m \u001b[0mk\u001b[0m\u001b[0;34m,\u001b[0m\u001b[0mv\u001b[0m \u001b[0;32min\u001b[0m \u001b[0msim_elmo_dict\u001b[0m\u001b[0;34m.\u001b[0m\u001b[0mitems\u001b[0m\u001b[0;34m(\u001b[0m\u001b[0;34m)\u001b[0m\u001b[0;34m:\u001b[0m\u001b[0;34m\u001b[0m\u001b[0;34m\u001b[0m\u001b[0m\n\u001b[0;32m----> 2\u001b[0;31m     \u001b[0;32mif\u001b[0m \u001b[0;34m(\u001b[0m\u001b[0msim_elmo_dict\u001b[0m\u001b[0;34m[\u001b[0m\u001b[0mk\u001b[0m\u001b[0;34m]\u001b[0m\u001b[0;34m[\u001b[0m\u001b[0;36m2\u001b[0m\u001b[0;34m]\u001b[0m \u001b[0;34m<=\u001b[0m \u001b[0msim_reg_dict\u001b[0m\u001b[0;34m[\u001b[0m\u001b[0mk\u001b[0m\u001b[0;34m]\u001b[0m\u001b[0;34m[\u001b[0m\u001b[0;36m2\u001b[0m\u001b[0;34m]\u001b[0m\u001b[0;34m)\u001b[0m\u001b[0;34m:\u001b[0m\u001b[0;34m\u001b[0m\u001b[0;34m\u001b[0m\u001b[0m\n\u001b[0m\u001b[1;32m      3\u001b[0m \u001b[0;31m#         pass\u001b[0m\u001b[0;34m\u001b[0m\u001b[0;34m\u001b[0m\u001b[0;34m\u001b[0m\u001b[0m\n\u001b[1;32m      4\u001b[0m         \u001b[0mprint\u001b[0m\u001b[0;34m(\u001b[0m\u001b[0;34m\"Elmo <= Regular\"\u001b[0m\u001b[0;34m)\u001b[0m\u001b[0;34m\u001b[0m\u001b[0;34m\u001b[0m\u001b[0m\n\u001b[1;32m      5\u001b[0m         \u001b[0mprint\u001b[0m\u001b[0;34m(\u001b[0m\u001b[0msim_elmo_dict\u001b[0m\u001b[0;34m[\u001b[0m\u001b[0mk\u001b[0m\u001b[0;34m]\u001b[0m\u001b[0;34m,\u001b[0m\u001b[0msim_reg_dict\u001b[0m\u001b[0;34m[\u001b[0m\u001b[0mk\u001b[0m\u001b[0;34m]\u001b[0m\u001b[0;34m)\u001b[0m\u001b[0;34m\u001b[0m\u001b[0;34m\u001b[0m\u001b[0m\n",
      "\u001b[0;31mKeyError\u001b[0m: '33 35'"
     ]
    }
   ],
   "source": [
    "for k,v in sim_elmo_dict.items():\n",
    "    if (sim_elmo_dict[k][2] <= sim_reg_dict[k][2]):\n",
    "#         pass\n",
    "        print(\"Elmo <= Regular\")\n",
    "        print(sim_elmo_dict[k],sim_reg_dict[k])\n",
    "    if (sim_elmo_dict[k][2] > sim_reg_dict[k][2]):\n",
    "        pass\n",
    "#         print(\"Elmo > Regular\")\n",
    "#         print(sim_elmo_dict[k],sim_reg_dict[k])"
   ]
  },
  {
   "cell_type": "code",
   "execution_count": 75,
   "metadata": {},
   "outputs": [
    {
     "data": {
      "text/plain": [
       "[1.016251564025879,\n",
       " 0.027123697102069855,\n",
       " 0.038384225219488144,\n",
       " -0.03157595172524452]"
      ]
     },
     "execution_count": 75,
     "metadata": {},
     "output_type": "execute_result"
    }
   ],
   "source": [
    "weights"
   ]
  },
  {
   "cell_type": "code",
   "execution_count": null,
   "metadata": {},
   "outputs": [],
   "source": []
  }
 ],
 "metadata": {
  "kernelspec": {
   "display_name": "Python 3",
   "language": "python",
   "name": "python3"
  },
  "language_info": {
   "codemirror_mode": {
    "name": "ipython",
    "version": 3
   },
   "file_extension": ".py",
   "mimetype": "text/x-python",
   "name": "python",
   "nbconvert_exporter": "python",
   "pygments_lexer": "ipython3",
   "version": "3.6.5"
  }
 },
 "nbformat": 4,
 "nbformat_minor": 2
}
